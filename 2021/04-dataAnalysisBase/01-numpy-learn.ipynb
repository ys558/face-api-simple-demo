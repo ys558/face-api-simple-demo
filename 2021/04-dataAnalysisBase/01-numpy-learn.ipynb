{
 "metadata": {
  "language_info": {
   "codemirror_mode": {
    "name": "ipython",
    "version": 3
   },
   "file_extension": ".py",
   "mimetype": "text/x-python",
   "name": "python",
   "nbconvert_exporter": "python",
   "pygments_lexer": "ipython3",
   "version": "3.8.8-final"
  },
  "orig_nbformat": 2,
  "kernelspec": {
   "name": "python3",
   "display_name": "Python 3.8.8 64-bit",
   "metadata": {
    "interpreter": {
     "hash": "385cc7913179755349969341b707c9558152640ced60da85e8c23e0383a43dbd"
    }
   }
  }
 },
 "nbformat": 4,
 "nbformat_minor": 2,
 "cells": [
  {
   "cell_type": "code",
   "execution_count": 1,
   "metadata": {},
   "outputs": [
    {
     "output_type": "stream",
     "name": "stdout",
     "text": [
      "[1 2 3 4] [1 2 3 4]\n"
     ]
    }
   ],
   "source": [
    "# 1. numpy创建数组\n",
    "\n",
    "import numpy as np\n",
    "# 1.1 采用列表方式创建\n",
    "a0 = np.array([1,2,3,4])\n",
    "# 1.2 采用元组方式创建\n",
    "a1 = np.array((1,2,3,4))\n",
    "\n",
    "print(a0, a1)"
   ]
  },
  {
   "cell_type": "code",
   "execution_count": 4,
   "metadata": {},
   "outputs": [
    {
     "output_type": "stream",
     "name": "stdout",
     "text": [
      "[[1 2 3 4]\n [2 3 4 5]\n [4 5 6 7]]\n"
     ]
    }
   ],
   "source": [
    "# 2. 创建多维数组\n",
    "a = np.array([[1,2,3,4],[2,3,4,5],[4,5,6,7]])\n",
    "print(a)"
   ]
  },
  {
   "cell_type": "code",
   "execution_count": 5,
   "metadata": {},
   "outputs": [
    {
     "output_type": "stream",
     "name": "stdout",
     "text": [
      "[0.  0.1 0.2 0.3 0.4 0.5 0.6 0.7 0.8 0.9]\n"
     ]
    }
   ],
   "source": [
    "# 3. 生成随机数组 \n",
    "#   3.1 .arange()\n",
    "#   第一个值表示开始值，第二个值表示终值，第三个值表示步长\n",
    "#   生成的值中不包括终值\n",
    "a = np.arange(0,1,0.1)\n",
    "print(a)"
   ]
  },
  {
   "cell_type": "code",
   "execution_count": 6,
   "metadata": {},
   "outputs": [
    {
     "output_type": "stream",
     "name": "stdout",
     "text": [
      "[0.   1.25 2.5  3.75 5.   6.25 7.5  8.75]\n"
     ]
    }
   ],
   "source": [
    "#  3.2 .linspace()\n",
    "# 前两个参数和arange一样，第三个值表示元素的个数\n",
    "#  生成的值包括终值，如果要不包含终值，只需加 endpoint = False 即可\n",
    "a = np.linspace(0,10, 8, endpoint=False)\n",
    "print(a)"
   ]
  },
  {
   "cell_type": "code",
   "execution_count": 27,
   "metadata": {},
   "outputs": [
    {
     "output_type": "stream",
     "name": "stdout",
     "text": [
      "[[4.17022005e-01 7.20324493e-01]\n [1.14374817e-04 3.02332573e-01]]\n----\n[[-0.52817175 -1.07296862  0.86540763]\n [-2.3015387   1.74481176 -0.7612069 ]\n [ 0.3190391  -0.24937038  1.46210794]]\n----\n[[7 0]\n [6 7]\n [6 1]]\n"
     ]
    }
   ],
   "source": [
    "# 4. 创建一个随机数组的函数： \n",
    "#   rand 产生0到1间的随机数\n",
    "#   randn 产生符合正标准态分布的随机数\n",
    "#   randint 产生指定区间的随机数\n",
    "#   normal 产生符合正态分布的随机数\n",
    "#   uniform 产生符合均匀分布的随机数\n",
    "#   seed 产生随机种子数\n",
    "#   choice 从指定样本中随机选择数据\n",
    "#   shuffle 将指定样本的元素顺序打乱\n",
    "\n",
    "a = np.random.rand(2,2)\n",
    "b = np.random.randn(3, 3)\n",
    "c = np.random.randint(0,9, (3,2))\n",
    "\n",
    "print(a)\n",
    "print('----')\n",
    "print(b)\n",
    "print('----')\n",
    "print(c)"
   ]
  },
  {
   "cell_type": "code",
   "execution_count": 29,
   "metadata": {},
   "outputs": [
    {
     "output_type": "stream",
     "name": "stdout",
     "text": [
      "[[0. 0. 0.]\n [0. 0. 0.]\n [0. 0. 0.]]\n[[1. 1.]\n [1. 1.]]\n[[0 0 0 0]\n [0 0 0 0]\n [0 0 0 0]]\n[[1 1 1 1]\n [1 1 1 1]\n [1 1 1 1]]\n"
     ]
    }
   ],
   "source": [
    "# np.zeros() 生成元素全是0为占位\n",
    "# np.ones() 生成元素全是1为占位\n",
    "# np.zeros_like(a) 生成形状和a一样且元素全是0为占位的数组\n",
    "# np.ones_like(a) 生成形状和a一样且元素全是1为占位的数组\n",
    "\n",
    "zerosArr = np.zeros([3,3])\n",
    "print(zerosArr)\n",
    "onesArr = np.ones([2,2])\n",
    "print(onesArr)\n",
    "a = np.array([[1,2,3,4],[4,5,6,7],[3,4,5,6]])\n",
    "print(np.zeros_like(a))\n",
    "print(np.ones_like(a))\n"
   ]
  },
  {
   "cell_type": "code",
   "execution_count": 35,
   "metadata": {},
   "outputs": [
    {
     "output_type": "stream",
     "name": "stdout",
     "text": [
      "(3, 3)\nfloat64\n2\n----\nint32\n"
     ]
    }
   ],
   "source": [
    "# 获取数组a的shape:a.shape\n",
    "# 获取数组a的元素类型：a.dtype\n",
    "# 获取数组a的维度：a.ndim\n",
    "\n",
    "print(zerosArr.shape)\n",
    "print(zerosArr.dtype)\n",
    "print(zerosArr.ndim)\n",
    "print('----')\n",
    "print(np.zeros_like(a).dtype)"
   ]
  },
  {
   "cell_type": "code",
   "execution_count": 50,
   "metadata": {},
   "outputs": [
    {
     "output_type": "stream",
     "name": "stdout",
     "text": [
      "[ 2 32 44 24  1  0 23 11]\n[24  1]\n[44 24  1  0 23 11]\n[11 23  0  1 24 44 32  2]\n[11  0 24 32]\n"
     ]
    }
   ],
   "source": [
    "# 5. 数组的改值，获取值，切片，\n",
    "# 5.1 一维数组的操作和list操作一样\n",
    "a = np.array([2,32,44,24,1,35,23,11])\n",
    "\n",
    "# 改值：\n",
    "a[5] = 0\n",
    "print(a)\n",
    "\n",
    "# 截取[3, 5)号元素：\n",
    "print(a[3:5])\n",
    "# 截取[2, 最后]号元素：\n",
    "print(a[2:])\n",
    "# 翻转操作, 步长为1，负数从后往前：\n",
    "print(a[::-1])\n",
    "# 翻转操作，步长为2，负数从后往前，即隔一个数拿一个：\n",
    "print(a[::-2])"
   ]
  },
  {
   "cell_type": "code",
   "execution_count": 75,
   "metadata": {},
   "outputs": [
    {
     "output_type": "stream",
     "name": "stdout",
     "text": [
      "[[ 0  1  2  3  4]\n [ 5  6  7  8  9]\n [10 11 12 13 14]\n [15 16 17 18 19]\n [20 21 22 23 24]]\n[0 1 2 3 4]\n[5 6 7 8 9]\n----\n[ 2  7 12 17 22]\n[ 3  8 13 18 23]\n"
     ]
    }
   ],
   "source": [
    "# 5.2 二维数组的操作：\n",
    "a = np.arange(0,25,1).reshape(5,5) # .arange(25) == .arange(0,25,1)\n",
    "print(a)\n",
    "# [第几横行, 开始元素:结束元素(不含)]\n",
    "print(a[0,0:])\n",
    "print(a[1,0:])\n",
    "print('----')\n",
    "# [开始元素:结束元素(不含), 第几竖行]\n",
    "print(a[0:,2])\n",
    "print(a[0:,3])"
   ]
  },
  {
   "cell_type": "code",
   "execution_count": 95,
   "metadata": {},
   "outputs": [
    {
     "output_type": "stream",
     "name": "stdout",
     "text": [
      "[[[1. 1. 1.]\n  [1. 1. 1.]\n  [1. 1. 1.]\n  [1. 1. 1.]\n  [1. 1. 1.]]\n\n [[1. 1. 1.]\n  [1. 1. 1.]\n  [1. 1. 1.]\n  [1. 1. 1.]\n  [1. 1. 1.]]\n\n [[1. 1. 1.]\n  [1. 1. 1.]\n  [1. 1. 1.]\n  [1. 1. 1.]\n  [1. 1. 1.]]]\n----------------\n[[[1. 1. 1.]\n  [1. 1. 1.]\n  [1. 1. 1.]\n  [1. 1. 1.]\n  [1. 1. 1.]]\n\n [[1. 1. 1.]\n  [1. 8. 1.]\n  [1. 1. 1.]\n  [1. 1. 1.]\n  [1. 1. 1.]]\n\n [[1. 1. 1.]\n  [1. 1. 1.]\n  [1. 1. 1.]\n  [1. 1. 1.]\n  [1. 1. 1.]]]\n----------------\n[[[ 1.    1.    1.  ]\n  [ 1.    1.    1.  ]\n  [ 1.    1.    1.  ]\n  [ 1.    1.    1.  ]\n  [ 1.    1.    1.  ]]\n\n [[ 1.    1.    1.  ]\n  [ 1.    8.   99.99]\n  [ 1.    1.   99.99]\n  [ 1.    1.    1.  ]\n  [ 1.    1.    1.  ]]\n\n [[ 1.    1.    1.  ]\n  [ 1.    1.   99.99]\n  [ 1.    1.   99.99]\n  [ 1.    1.    1.  ]\n  [ 1.    1.    1.  ]]]\n"
     ]
    }
   ],
   "source": [
    "# 5.3 三维数组的操作，在深度学习特征数据处理时用的是最多的。\n",
    "# 下面这个为3行5列3通道的数组\n",
    "a = np.ones(45).reshape(3,5,3)\n",
    "print(a)\n",
    "print('----------------')\n",
    "\n",
    "# [块，行，个]\n",
    "# 这里即[第一块, 第一行, 第一个元素]改为8\n",
    "a[1, 1, 1]=8\n",
    "print(a)\n",
    "# \n",
    "print('----------------')\n",
    "\n",
    "# [[1:最后]块, [1:3)行, 第2个]改为99.99\n",
    "a[1:, 1:3, 2] = 99.99\n",
    "print(a)"
   ]
  },
  {
   "cell_type": "code",
   "execution_count": 110,
   "metadata": {},
   "outputs": [
    {
     "output_type": "stream",
     "name": "stdout",
     "text": [
      "[0 1 2 3 4 5 6 7 8 9]\n----\n[[0 1 2 3 4]\n [5 6 7 8 9]]\n[[0 1 2 3 4]\n [5 6 7 8 9]]\n"
     ]
    }
   ],
   "source": [
    "# 6. 维度变换 .reshape()\n",
    "a = np.arange(10)\n",
    "b = a.reshape(2,5)\n",
    "b1 = a.reshape(2,5)\n",
    "print(a)\n",
    "print('----')\n",
    "print(b)\n",
    "print(b1)"
   ]
  },
  {
   "cell_type": "code",
   "execution_count": 111,
   "metadata": {},
   "outputs": [
    {
     "output_type": "execute_result",
     "data": {
      "text/plain": [
       "array([[0, 5],\n",
       "       [1, 6],\n",
       "       [2, 7],\n",
       "       [3, 8],\n",
       "       [4, 9]])"
      ]
     },
     "metadata": {},
     "execution_count": 111
    }
   ],
   "source": [
    "# 7. 维度交换 .swapaxes()\n",
    "b.swapaxes(0,1)"
   ]
  },
  {
   "cell_type": "code",
   "execution_count": 119,
   "metadata": {},
   "outputs": [
    {
     "output_type": "stream",
     "name": "stdout",
     "text": [
      "[[[ 0  1  2  3]\n  [ 4  5  6  7]\n  [ 8  9 10 11]]\n\n [[12 13 14 15]\n  [16 17 18 19]\n  [20 21 22 23]]]\n-------\n[[[ 0  1  2  3]\n  [12 13 14 15]]\n\n [[ 4  5  6  7]\n  [16 17 18 19]]\n\n [[ 8  9 10 11]\n  [20 21 22 23]]]\n"
     ]
    }
   ],
   "source": [
    "a = np.arange(24).reshape(2,3,4)\n",
    "# 三维数组的第0轴和第1轴进行了交换, 即上面的2, 3进行交换\n",
    "b = a.swapaxes(0,1)\n",
    "print(a)\n",
    "print('-------')\n",
    "print(b)"
   ]
  },
  {
   "cell_type": "code",
   "execution_count": 8,
   "metadata": {},
   "outputs": [
    {
     "output_type": "stream",
     "name": "stdout",
     "text": [
      "[[0 1 2 3 4]\n [5 6 7 8 9]]\n[0 1 2 3 4 5 6 7 8 9]\n[0 1 2 3 4 5 6 7 8 9]\n[0 1 2 3 4 5 6 7 8 9]\n"
     ]
    }
   ],
   "source": [
    "# 将多维数组拆成一维数组：\n",
    "a = np.arange(10).reshape(2,5)\n",
    "b = a.flatten()\n",
    "c = a.reshape(-1)\n",
    "d = a.ravel()\n",
    "print(a)\n",
    "print(b)\n",
    "print(c)\n",
    "print(d)"
   ]
  },
  {
   "cell_type": "code",
   "execution_count": 15,
   "metadata": {},
   "outputs": [
    {
     "output_type": "stream",
     "name": "stdout",
     "text": [
      "[1 2 3 4 3 4 5 6]\n[[1 2 3 4]\n [3 4 5 6]]\n"
     ]
    }
   ],
   "source": [
    "# 8. 数组堆叠 .hstack() .stack()\n",
    "a = np.array([1,2,3,4])\n",
    "b = np.array([3,4,5,6,])\n",
    "\n",
    "print(np.hstack((a,b)))\n",
    "print(np.vstack((a,b)))"
   ]
  }
 ]
}