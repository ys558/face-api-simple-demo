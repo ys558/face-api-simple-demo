{
 "metadata": {
  "language_info": {
   "codemirror_mode": {
    "name": "ipython",
    "version": 3
   },
   "file_extension": ".py",
   "mimetype": "text/x-python",
   "name": "python",
   "nbconvert_exporter": "python",
   "pygments_lexer": "ipython3",
   "version": "3.8.7-final"
  },
  "orig_nbformat": 2,
  "kernelspec": {
   "name": "python3",
   "display_name": "Python 3.8.7 64-bit",
   "metadata": {
    "interpreter": {
     "hash": "385cc7913179755349969341b707c9558152640ced60da85e8c23e0383a43dbd"
    }
   }
  }
 },
 "nbformat": 4,
 "nbformat_minor": 2,
 "cells": [
  {
   "cell_type": "code",
   "execution_count": 1,
   "metadata": {},
   "outputs": [
    {
     "output_type": "stream",
     "name": "stdout",
     "text": [
      "[1 2 3 4] [1 2 3 4]\n"
     ]
    }
   ],
   "source": [
    "# 1. numpy创建数组\n",
    "\n",
    "import numpy as np\n",
    "# 1.1 采用列表方式创建\n",
    "a0 = np.array([1,2,3,4])\n",
    "# 1.2 采用元组方式创建\n",
    "a1 = np.array((1,2,3,4))\n",
    "\n",
    "print(a0, a1)"
   ]
  },
  {
   "cell_type": "code",
   "execution_count": 4,
   "metadata": {},
   "outputs": [
    {
     "output_type": "stream",
     "name": "stdout",
     "text": [
      "[[1 2 3 4]\n [2 3 4 5]\n [4 5 6 7]]\n"
     ]
    }
   ],
   "source": [
    "# 2. 创建多维数组\n",
    "a = np.array([[1,2,3,4],[2,3,4,5],[4,5,6,7]])\n",
    "print(a)"
   ]
  }
 ]
}